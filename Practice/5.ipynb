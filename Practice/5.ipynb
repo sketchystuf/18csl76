{
 "cells": [
  {
   "cell_type": "code",
   "execution_count": 3,
   "id": "d54f0818",
   "metadata": {},
   "outputs": [
    {
     "name": "stdout",
     "output_type": "stream",
     "text": [
      "Input \n",
      "[[2 9]\n",
      " [1 5]\n",
      " [3 6]]\n",
      "Actual Output \n",
      "[[0.92]\n",
      " [0.86]\n",
      " [0.89]]\n",
      "Predicted Output \n",
      " [[0.89466073]\n",
      " [0.87976441]\n",
      " [0.89388849]]\n"
     ]
    }
   ],
   "source": [
    "import numpy as np\n",
    "\n",
    "X=np.array(([2,9],[1,5],[3,6]))\n",
    "y=np.array(([92],[86],[89]))\n",
    "y=y/100\n",
    "\n",
    "def sigmoid(x):\n",
    "    return 1/(1+np.exp(-x))\n",
    "\n",
    "def der_sig(x):\n",
    "    return x*(1-x)\n",
    "\n",
    "epoch=10000\n",
    "lr=0.1\n",
    "iln=2\n",
    "hln=3\n",
    "oln=1\n",
    "\n",
    "wh=np.random.uniform(size=(iln,hln))\n",
    "bh=np.random.uniform(size=(1,hln))\n",
    "wout=np.random.uniform(size=(hln,oln))\n",
    "bout=np.random.uniform(size=(1,oln))\n",
    "\n",
    "for i in range(epoch):\n",
    "    hinp1=np.dot(X,wh)\n",
    "    hinp=hinp1+bh\n",
    "    hla=sigmoid(hinp)\n",
    "    \n",
    "    outinp1=np.dot(hla,wout)\n",
    "    outinp=outinp1+bout\n",
    "    output=sigmoid(outinp)\n",
    "    \n",
    "    EO=y-output\n",
    "    outgrad=der_sig(output)\n",
    "    d_output=EO*outgrad\n",
    "    \n",
    "    EH=d_output.dot(wout.T)\n",
    "    hiddengrad=der_sig(hla)\n",
    "    d_hidden=EH*hiddengrad\n",
    "    \n",
    "    wout+=hla.T.dot(d_output)*lr\n",
    "    wh+=X.T.dot(d_hidden)*lr\n",
    "    bout+=np.sum(d_output,axis=0,keepdims=True)*lr\n",
    "    bh+=np.sum(d_hidden,axis=0,keepdims=True)*lr\n",
    "    \n",
    "print(\"Input \\n\" + str(X))\n",
    "print(\"Actual Output \\n\"+str(y))\n",
    "print(\"Predicted Output \\n\",output)"
   ]
  },
  {
   "cell_type": "code",
   "execution_count": null,
   "id": "7a3184e9",
   "metadata": {},
   "outputs": [],
   "source": []
  }
 ],
 "metadata": {
  "kernelspec": {
   "display_name": "Python 3 (ipykernel)",
   "language": "python",
   "name": "python3"
  },
  "language_info": {
   "codemirror_mode": {
    "name": "ipython",
    "version": 3
   },
   "file_extension": ".py",
   "mimetype": "text/x-python",
   "name": "python",
   "nbconvert_exporter": "python",
   "pygments_lexer": "ipython3",
   "version": "3.11.0"
  }
 },
 "nbformat": 4,
 "nbformat_minor": 5
}
