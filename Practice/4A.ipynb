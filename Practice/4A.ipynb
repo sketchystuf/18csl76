{
 "cells": [
  {
   "cell_type": "code",
   "execution_count": 2,
   "id": "a5ee686e",
   "metadata": {},
   "outputs": [
    {
     "name": "stdout",
     "output_type": "stream",
     "text": [
      "The decision tree for the dataset using ID3 algorithm is\n",
      "Outlook\n",
      "├── Overcast\n",
      "│   └── Yes\n",
      "├── Rain\n",
      "│   └── Wind\n",
      "│       ├── Strong\n",
      "│       │   └── No\n",
      "│       └── Weak\n",
      "│           └── Yes\n",
      "└── Sunny\n",
      "    └── Humidity\n",
      "        ├── High\n",
      "        │   └── No\n",
      "        └── Normal\n",
      "            └── Yes\n",
      "\n",
      "The test instance: ['Sunny', 'Hot', 'High', 'Weak', '?']\n",
      "The label for test instance:\n",
      "No\n",
      "The tree traversal for the test instance is: \n",
      "Outlook\n",
      "└── Sunny\n",
      "    └── Humidity\n",
      "        └── High\n",
      "            └── No\n",
      "\n",
      "The test instance: ['Rain', 'Mild', 'High', 'Weak', '?']\n",
      "The label for test instance:\n",
      "Yes\n",
      "The tree traversal for the test instance is: \n",
      "Outlook\n",
      "└── Rain\n",
      "    └── Wind\n",
      "        └── Weak\n",
      "            └── Yes\n",
      "\n"
     ]
    }
   ],
   "source": [
    "from ID3Algorithm import ID3\n",
    "import csv\n",
    "def load_data(filename):\n",
    "    lines=csv.reader(open(filename,\"r\"))\n",
    "    dataset=list(lines)\n",
    "    header=dataset.pop(0)\n",
    "    return dataset, header\n",
    "\n",
    "training_data, training_header=load_data('PlayTennis.csv')\n",
    "test_data, test_header=load_data('PlayTennisTest.csv')\n",
    "\n",
    "id3=ID3(training_data, training_header, test_data, test_header)\n",
    "id3.build_tree()\n",
    "id3.classify()"
   ]
  },
  {
   "cell_type": "markdown",
   "id": "4fcb81e0",
   "metadata": {},
   "source": [
    "1. Calculate the Information Gain of each feature.\n",
    "2. Considering that all rows don’t belong to the same class, split the dataset S into subsets using the feature for which the Information Gain is maximum.\n",
    "3. Make a decision tree node using the feature with the 4. maximum Information gain.\n",
    "4. If all rows belong to the same class, make the current node as a leaf node with the class as its label.\n",
    "5. Repeat for the remaining features until we run out of all features, or the decision tree has all leaf nodes."
   ]
  }
 ],
 "metadata": {
  "kernelspec": {
   "display_name": "Python 3 (ipykernel)",
   "language": "python",
   "name": "python3"
  },
  "language_info": {
   "codemirror_mode": {
    "name": "ipython",
    "version": 3
   },
   "file_extension": ".py",
   "mimetype": "text/x-python",
   "name": "python",
   "nbconvert_exporter": "python",
   "pygments_lexer": "ipython3",
   "version": "3.11.0"
  }
 },
 "nbformat": 4,
 "nbformat_minor": 5
}
