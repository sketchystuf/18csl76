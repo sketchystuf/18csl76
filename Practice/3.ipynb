{
 "cells": [
  {
   "cell_type": "code",
   "execution_count": 6,
   "id": "60c87850",
   "metadata": {},
   "outputs": [
    {
     "name": "stdout",
     "output_type": "stream",
     "text": [
      "['sunny', 'warm', 'normal', 'strong', 'warm', 'same', 'yes']\n",
      "['sunny', 'warm', 'high', 'strong', 'warm', 'same', 'yes']\n",
      "['rainy', 'cold', 'high', 'strong', 'warm', 'change', 'no']\n",
      "['sunny', 'warm', 'high', 'strong', 'cool', 'change', 'yes']\n",
      "['0', '0', '0', '0', '0', '0']\n",
      "['?', '?', '?', '?', '?', '?']\n",
      "['sunny', 'warm', 'normal', 'strong', 'warm', 'same']\n",
      "['?', '?', '?', '?', '?', '?']\n",
      "['sunny', 'warm', '?', 'strong', 'warm', 'same']\n",
      "['?', '?', '?', '?', '?', '?']\n",
      "['sunny', 'warm', '?', 'strong', 'warm', 'same']\n",
      "[['sunny', '?', '?', '?', '?', '?'], ['?', 'warm', '?', '?', '?', '?'], ['?', '?', '?', '?', '?', '?'], ['?', '?', '?', '?', '?', 'same']]\n",
      "['sunny', 'warm', '?', 'strong', '?', '?']\n",
      "[['sunny', '?', '?', '?', '?', '?'], ['?', 'warm', '?', '?', '?', '?'], ['?', '?', '?', '?', '?', '?']]\n"
     ]
    }
   ],
   "source": [
    "import csv\n",
    "a=[]\n",
    "with open(\"enjoysport.csv\",\"r\") as csvfile:\n",
    "    fdata=csv.reader(csvfile)\n",
    "    for row in fdata:\n",
    "        a.append(row)\n",
    "        print(row)\n",
    "num_attr=len(a[0])-1\n",
    "S=['0']*num_attr\n",
    "G=['?']*num_attr\n",
    "print(S)\n",
    "print(G)\n",
    "temp=[]\n",
    "\n",
    "for i in range(0,num_attr):\n",
    "    S[i]=a[0][i]\n",
    "\n",
    "for i in range(0,len(a)):\n",
    "    if a[i][num_attr]=='yes':\n",
    "        for j in range(0,num_attr):\n",
    "            if S[j]!=a[i][j]:\n",
    "                S[j]='?'\n",
    "        for j in range(0,num_attr):\n",
    "            for k in range(0,len(temp)):\n",
    "                if temp[k][j]!=S[j] and temp[k][j]!='?':\n",
    "                    del temp[k]\n",
    "    \n",
    "    if a[i][num_attr]=='no':\n",
    "        for j in range(0,num_attr):\n",
    "            if a[i][j]!=S[j] and S[j]!='?':\n",
    "                G[j]=S[j]\n",
    "                temp.append(G)\n",
    "                G=['?']*num_attr\n",
    "    print(S)\n",
    "    if len(temp)==0:\n",
    "        print(G)\n",
    "    else:\n",
    "        print(temp)"
   ]
  },
  {
   "cell_type": "code",
   "execution_count": null,
   "id": "bbb27fc6",
   "metadata": {},
   "outputs": [],
   "source": []
  }
 ],
 "metadata": {
  "kernelspec": {
   "display_name": "Python 3 (ipykernel)",
   "language": "python",
   "name": "python3"
  },
  "language_info": {
   "codemirror_mode": {
    "name": "ipython",
    "version": 3
   },
   "file_extension": ".py",
   "mimetype": "text/x-python",
   "name": "python",
   "nbconvert_exporter": "python",
   "pygments_lexer": "ipython3",
   "version": "3.11.0"
  }
 },
 "nbformat": 4,
 "nbformat_minor": 5
}
