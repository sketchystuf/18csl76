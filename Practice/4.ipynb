{
 "cells": [
  {
   "cell_type": "code",
   "execution_count": 2,
   "id": "a5ee686e",
   "metadata": {},
   "outputs": [
    {
     "name": "stdout",
     "output_type": "stream",
     "text": [
      "The decision tree for the dataset using ID3 algorithm is\n",
      "Outlook\n",
      "├── Overcast\n",
      "│   └── Yes\n",
      "├── Rain\n",
      "│   └── Wind\n",
      "│       ├── Strong\n",
      "│       │   └── No\n",
      "│       └── Weak\n",
      "│           └── Yes\n",
      "└── Sunny\n",
      "    └── Humidity\n",
      "        ├── High\n",
      "        │   └── No\n",
      "        └── Normal\n",
      "            └── Yes\n",
      "\n",
      "The test instance: ['Sunny', 'Hot', 'High', 'Weak', '?']\n",
      "The label for test instance:\n",
      "No\n",
      "The tree traversal for the test instance is: \n",
      "Outlook\n",
      "└── Sunny\n",
      "    └── Humidity\n",
      "        └── High\n",
      "            └── No\n",
      "\n",
      "The test instance: ['Rain', 'Mild', 'High', 'Weak', '?']\n",
      "The label for test instance:\n",
      "Yes\n",
      "The tree traversal for the test instance is: \n",
      "Outlook\n",
      "└── Rain\n",
      "    └── Wind\n",
      "        └── Weak\n",
      "            └── Yes\n",
      "\n"
     ]
    }
   ],
   "source": [
    "from ID3Algorithm import ID3\n",
    "import csv\n",
    "def load_data(filename):\n",
    "    lines=csv.reader(open(filename,\"r\"))\n",
    "    dataset=list(lines)\n",
    "    header=dataset.pop(0)\n",
    "    return dataset, header\n",
    "\n",
    "training_data, training_header=load_data('PlayTennis.csv')\n",
    "test_data, test_header=load_data('PlayTennisTest.csv')\n",
    "\n",
    "id3=ID3(training_data, training_header, test_data, test_header)\n",
    "id3.build_tree()\n",
    "id3.classify()"
   ]
  },
  {
   "cell_type": "code",
   "execution_count": null,
   "id": "1178c977",
   "metadata": {},
   "outputs": [],
   "source": []
  }
 ],
 "metadata": {
  "kernelspec": {
   "display_name": "Python 3 (ipykernel)",
   "language": "python",
   "name": "python3"
  },
  "language_info": {
   "codemirror_mode": {
    "name": "ipython",
    "version": 3
   },
   "file_extension": ".py",
   "mimetype": "text/x-python",
   "name": "python",
   "nbconvert_exporter": "python",
   "pygments_lexer": "ipython3",
   "version": "3.11.0"
  }
 },
 "nbformat": 4,
 "nbformat_minor": 5
}
