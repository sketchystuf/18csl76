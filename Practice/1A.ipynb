{
 "cells": [
  {
   "cell_type": "code",
   "execution_count": 1,
   "id": "bad9a275",
   "metadata": {},
   "outputs": [
    {
     "name": "stdout",
     "output_type": "stream",
     "text": [
      "Path\n",
      "A -> F -> G -> I -> J\n",
      "Cost\n",
      "0 -> 3 -> 4 -> 7 -> 10\n"
     ]
    }
   ],
   "source": [
    "from heuristicsearch.a_star_search import AStar\n",
    "graph_nodes={\n",
    "'A': [('B', 6), ('F', 3)],\n",
    "'B': [('C', 3), ('D', 2)],\n",
    "'C': [('D', 1), ('E', 5)],\n",
    "'D': [('C', 1), ('E', 8)],\n",
    "'E': [('I', 5), ('J', 5)],\n",
    "'F': [('G', 1),('H', 7)] ,\n",
    "'G': [('I', 3)],\n",
    "'H': [('I', 2)],\n",
    "'I': [('E', 5), ('J', 3)]\n",
    "}\n",
    "heuristic={'A': 10,'B': 8,'C': 5,'D': 7,'E': 3,'F': 6,'G': 5,'H': 3,'I': 1,'J': 0}\n",
    "\n",
    "graph = AStar(graph_nodes, heuristic)\n",
    "graph.apply_a_star(start='A', stop='J')"
   ]
  },
  {
   "cell_type": "markdown",
   "id": "6519aba8",
   "metadata": {},
   "source": [
    "1. Initialize the open list\n",
    "\n",
    "2. Initialize the closed list\n",
    "    put the starting node on the open\n",
    "    list (you can leave its f at zero)\n",
    "3. while the open list is not empty\n",
    "        a) find the node with the least f on the open list, call it \"q\"\n",
    "        b) pop q off the open list\n",
    "        c) generate q's 8 successors and set their parents to q\n",
    "        d) for each successor\n",
    "            i) if successor is the goal, stop search\n",
    "            ii) else, compute both g and h for successor\n",
    "                successor.g = q.g + distance between successor and q\n",
    "                successor.h = distance from goal to successor \n",
    "                successor.f = successor.g + successor.h\n",
    "            iii) if a node with the same position as successor is in the OPEN list which has a lower f than successor,skip\n",
    "            this successor\n",
    "            iV) if a node with the same position as successor is in the CLOSED list which has a lower f than successor,\n",
    "            skip this successor otherwise, add the node to the open list\n",
    "            end (for loop)\n",
    "        e) push q on the closed list\n",
    "   end (while loop)"
   ]
  }
 ],
 "metadata": {
  "kernelspec": {
   "display_name": "Python 3 (ipykernel)",
   "language": "python",
   "name": "python3"
  },
  "language_info": {
   "codemirror_mode": {
    "name": "ipython",
    "version": 3
   },
   "file_extension": ".py",
   "mimetype": "text/x-python",
   "name": "python",
   "nbconvert_exporter": "python",
   "pygments_lexer": "ipython3",
   "version": "3.11.0"
  }
 },
 "nbformat": 4,
 "nbformat_minor": 5
}
