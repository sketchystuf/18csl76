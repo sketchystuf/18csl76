{
 "cells": [
  {
   "cell_type": "code",
   "execution_count": 11,
   "id": "8cf909e7",
   "metadata": {},
   "outputs": [
    {
     "name": "stdout",
     "output_type": "stream",
     "text": [
      "loaded\n",
      "(135, 4) (15, 4)\n",
      "(135,) (15,)\n",
      "Label : 0   setosa\n",
      "Label : 1   versicolor\n",
      "Label : 2   virginica\n",
      "Sample [5.7 3.  4.2 1.2] Actual Label  1 Predicted Label 1\n",
      "Sample [5.  3.  1.6 0.2] Actual Label  0 Predicted Label 0\n",
      "Sample [6.3 2.5 4.9 1.5] Actual Label  1 Predicted Label 2\n",
      "Sample [7.7 3.  6.1 2.3] Actual Label  2 Predicted Label 2\n",
      "Sample [5.3 3.7 1.5 0.2] Actual Label  0 Predicted Label 0\n",
      "Sample [5.1 3.7 1.5 0.4] Actual Label  0 Predicted Label 0\n",
      "Sample [6.4 2.7 5.3 1.9] Actual Label  2 Predicted Label 2\n",
      "Sample [6.2 3.4 5.4 2.3] Actual Label  2 Predicted Label 2\n",
      "Sample [5.5 2.6 4.4 1.2] Actual Label  1 Predicted Label 1\n",
      "Sample [5.8 2.7 4.1 1. ] Actual Label  1 Predicted Label 1\n",
      "Sample [4.3 3.  1.1 0.1] Actual Label  0 Predicted Label 0\n",
      "Sample [5.  3.5 1.6 0.6] Actual Label  0 Predicted Label 0\n",
      "Sample [5.7 2.8 4.1 1.3] Actual Label  1 Predicted Label 1\n",
      "Sample [6.2 2.9 4.3 1.3] Actual Label  1 Predicted Label 1\n",
      "Sample [4.8 3.  1.4 0.3] Actual Label  0 Predicted Label 0\n",
      "Accuracy 0.9333333333333333\n",
      "\n",
      "              precision    recall  f1-score   support\n",
      "\n",
      "           0       1.00      1.00      1.00         6\n",
      "           1       1.00      0.83      0.91         6\n",
      "           2       0.75      1.00      0.86         3\n",
      "\n",
      "    accuracy                           0.93        15\n",
      "   macro avg       0.92      0.94      0.92        15\n",
      "weighted avg       0.95      0.93      0.94        15\n",
      "\n",
      "\n",
      "[[6 0 0]\n",
      " [0 5 1]\n",
      " [0 0 3]]\n"
     ]
    }
   ],
   "source": [
    "from sklearn import datasets\n",
    "from sklearn.neighbors import KNeighborsClassifier\n",
    "from sklearn.metrics import classification_report, confusion_matrix\n",
    "from sklearn.model_selection import train_test_split\n",
    "\n",
    "iris=datasets.load_iris()\n",
    "print(\"loaded\")\n",
    "\n",
    "xtrain, xtest, ytrain, ytest = train_test_split(iris.data,iris.target,test_size=0.1)\n",
    "print(xtrain.shape,xtest.shape)\n",
    "print(ytrain.shape,ytest.shape)\n",
    "\n",
    "for i in range(len(iris.target_names)):\n",
    "    print(\"Label :\",i,\" \",iris.target_names[i] )\n",
    "    \n",
    "classifier=KNeighborsClassifier(n_neighbors=1)\n",
    "classifier.fit(xtrain,ytrain)\n",
    "y_pred=classifier.predict(xtest)\n",
    "\n",
    "for r in range(len(xtest)):\n",
    "    print(\"Sample\",str(xtest[r]),\"Actual Label \",str(ytest[r]),\"Predicted Label\",str(y_pred[r]))\n",
    "\n",
    "print(\"Accuracy\",classifier.score(xtest,ytest))\n",
    "print()\n",
    "print(classification_report(ytest,y_pred))\n",
    "print()\n",
    "print(confusion_matrix(ytest,y_pred))"
   ]
  },
  {
   "cell_type": "code",
   "execution_count": null,
   "id": "ac42fbb9",
   "metadata": {},
   "outputs": [],
   "source": []
  }
 ],
 "metadata": {
  "kernelspec": {
   "display_name": "Python 3 (ipykernel)",
   "language": "python",
   "name": "python3"
  },
  "language_info": {
   "codemirror_mode": {
    "name": "ipython",
    "version": 3
   },
   "file_extension": ".py",
   "mimetype": "text/x-python",
   "name": "python",
   "nbconvert_exporter": "python",
   "pygments_lexer": "ipython3",
   "version": "3.11.0"
  }
 },
 "nbformat": 4,
 "nbformat_minor": 5
}
