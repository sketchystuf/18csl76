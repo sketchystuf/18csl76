{
 "cells": [
  {
   "cell_type": "code",
   "execution_count": 1,
   "id": "78f361f5",
   "metadata": {},
   "outputs": [
    {
     "name": "stdout",
     "output_type": "stream",
     "text": [
      "Path\n",
      "A -> F -> G -> I -> J\n",
      "Cost\n",
      "0 -> 3 -> 4 -> 7 -> 10\n"
     ]
    }
   ],
   "source": [
    "from heuristicsearch.a_star_search import AStar\n",
    "graph_nodes = {\n",
    "'A': [('B', 6), ('F', 3)],\n",
    "'B': [('C', 3), ('D', 2)],\n",
    "'C': [('D', 1), ('E', 5)],\n",
    "'D': [('C', 1), ('E', 8)],\n",
    "'E': [('I', 5), ('J', 5)],\n",
    "'F': [('G', 1),('H', 7)] ,\n",
    "'G': [('I', 3)],\n",
    "'H': [('I', 2)],\n",
    "'I': [('E', 5), ('J', 3)]\n",
    "}\n",
    "heuristics = {'A': 10,'B': 8,'C': 5,'D': 7,'E': 3,'F': 6,'G': 5,'H': 3,'I': 1,'J': 0}\n",
    "graph= AStar(graph_nodes,heuristics)\n",
    "graph.apply_a_star(start='A', stop='J')"
   ]
  },
  {
   "cell_type": "code",
   "execution_count": null,
   "id": "db5003a4",
   "metadata": {},
   "outputs": [],
   "source": []
  }
 ],
 "metadata": {
  "kernelspec": {
   "display_name": "Python 3 (ipykernel)",
   "language": "python",
   "name": "python3"
  },
  "language_info": {
   "codemirror_mode": {
    "name": "ipython",
    "version": 3
   },
   "file_extension": ".py",
   "mimetype": "text/x-python",
   "name": "python",
   "nbconvert_exporter": "python",
   "pygments_lexer": "ipython3",
   "version": "3.10.6"
  }
 },
 "nbformat": 4,
 "nbformat_minor": 5
}
