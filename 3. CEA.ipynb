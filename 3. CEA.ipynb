{
 "cells": [
  {
   "cell_type": "code",
   "execution_count": 3,
   "id": "af2ed6ca",
   "metadata": {},
   "outputs": [
    {
     "name": "stdout",
     "output_type": "stream",
     "text": [
      "['sunny', 'warm', 'normal', 'strong', 'warm', 'same', 'yes']\n",
      "['sunny', 'warm', 'high', 'strong', 'warm', 'same', 'yes']\n",
      "['rainy', 'cold', 'high', 'strong', 'warm', 'change', 'no']\n",
      "['sunny', 'warm', 'high', 'strong', 'cool', 'change', 'yes']\n",
      "['0', '0', '0', '0', '0', '0']\n",
      "['?', '?', '?', '?', '?', '?']\n",
      "................................................\n",
      "['sunny', 'warm', '?', 'strong', '?', '?']\n",
      "[['sunny', '?', '?', '?', '?', '?'], ['?', 'warm', '?', '?', '?', '?']]\n",
      "......................................................................\n"
     ]
    }
   ],
   "source": [
    "import csv\n",
    "a=[]\n",
    "with open(\"enjoysport.csv\",\"r\") as csvfile:\n",
    "    fdata=csv.reader(csvfile)\n",
    "    for row in fdata:\n",
    "        a.append(row)\n",
    "        print(row)\n",
    "num_att=len(a[0])-1\n",
    "S=['0']*num_att\n",
    "G=['?']*num_att\n",
    "print(S)\n",
    "print(G)\n",
    "temp=[]\n",
    "for i in range(0,num_att):\n",
    "    S[i]=a[0][i]\n",
    "print(\"................................................\")\n",
    "for i in range(0,len(a)):\n",
    "    if a[i][num_att]==\"Yes\" or a[i][num_att]=='yes':\n",
    "        for j in range(0,num_att):\n",
    "            if S[ j]!=a[i][ j]:\n",
    "                S[ j]='?'\n",
    "        for j in range(0,num_att):\n",
    "            for k in range(0,len(temp)):\n",
    "                if temp[k][ j]!=S[ j] and temp[k][ j]!='?':\n",
    "                    del temp[k]\n",
    "    if a[i][num_att]=='No' or a[i][num_att]=='no':\n",
    "        for j in range(0,num_att):\n",
    "            if a[i][ j]!=S[ j] and S[ j]!='?':\n",
    "                G[ j]=S[ j]\n",
    "                temp.append(G)\n",
    "                G=['?']*num_att\n",
    "print(S)\n",
    "if len(temp)==0:\n",
    "    print(G)\n",
    "else:\n",
    "    print(temp)\n",
    "print(\"......................................................................\")"
   ]
  },
  {
   "cell_type": "code",
   "execution_count": null,
   "id": "b97fe975",
   "metadata": {},
   "outputs": [],
   "source": []
  }
 ],
 "metadata": {
  "kernelspec": {
   "display_name": "Python 3 (ipykernel)",
   "language": "python",
   "name": "python3"
  },
  "language_info": {
   "codemirror_mode": {
    "name": "ipython",
    "version": 3
   },
   "file_extension": ".py",
   "mimetype": "text/x-python",
   "name": "python",
   "nbconvert_exporter": "python",
   "pygments_lexer": "ipython3",
   "version": "3.10.6"
  }
 },
 "nbformat": 4,
 "nbformat_minor": 5
}
