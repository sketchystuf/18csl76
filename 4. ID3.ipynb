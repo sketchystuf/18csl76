{
 "cells": [
  {
   "cell_type": "code",
   "execution_count": 3,
   "id": "a8a30e78",
   "metadata": {},
   "outputs": [
    {
     "name": "stdout",
     "output_type": "stream",
     "text": [
      "The decision tree for the dataset using ID3 algorithm is\n",
      "Outlook\n",
      "├── Overcast\n",
      "│   └── Yes\n",
      "├── Rain\n",
      "│   └── Wind\n",
      "│       ├── Strong\n",
      "│       │   └── No\n",
      "│       └── Weak\n",
      "│           └── Yes\n",
      "└── Sunny\n",
      "    └── Humidity\n",
      "        ├── High\n",
      "        │   └── No\n",
      "        └── Normal\n",
      "            └── Yes\n",
      "\n",
      "The test instance: ['Sunny', 'Hot', 'High', 'Weak', '?']\n",
      "The label for test instance:\n",
      "No\n",
      "The tree traversal for the test instance is: \n",
      "Outlook\n",
      "└── Sunny\n",
      "    └── Humidity\n",
      "        └── High\n",
      "            └── No\n",
      "\n",
      "The test instance: ['Rain', 'Mild', 'High', 'Weak', '?']\n",
      "The label for test instance:\n",
      "Yes\n",
      "The tree traversal for the test instance is: \n",
      "Outlook\n",
      "└── Rain\n",
      "    └── Wind\n",
      "        └── Weak\n",
      "            └── Yes\n",
      "\n"
     ]
    }
   ],
   "source": [
    "from ID3Algorithm import ID3\n",
    "import csv\n",
    "def load_csv(filename):\n",
    "    lines=csv.reader(open(filename,\"r\"))\n",
    "    dataset = list(lines)\n",
    "    headers = dataset.pop(0)\n",
    "    return dataset,headers\n",
    "dataset_train, headers_train = load_csv('PlayTennis.csv')\n",
    "dataset_test, headers_test = load_csv('PlayTennisTest.csv')\n",
    "id3 = ID3(dataset_train,headers_train,dataset_test,headers_test)\n",
    "id3.build_tree()\n",
    "id3.classify()"
   ]
  }
 ],
 "metadata": {
  "kernelspec": {
   "display_name": "Python 3 (ipykernel)",
   "language": "python",
   "name": "python3"
  },
  "language_info": {
   "codemirror_mode": {
    "name": "ipython",
    "version": 3
   },
   "file_extension": ".py",
   "mimetype": "text/x-python",
   "name": "python",
   "nbconvert_exporter": "python",
   "pygments_lexer": "ipython3",
   "version": "3.10.6"
  }
 },
 "nbformat": 4,
 "nbformat_minor": 5
}
